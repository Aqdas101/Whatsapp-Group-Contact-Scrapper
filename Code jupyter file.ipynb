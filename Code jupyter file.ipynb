{
 "cells": [
  {
   "cell_type": "code",
   "execution_count": 1,
   "metadata": {},
   "outputs": [],
   "source": [
    "import pandas as pd\n",
    "from selenium import webdriver\n",
    "from selenium.webdriver.common.by import By\n",
    "from selenium.webdriver.support.ui import WebDriverWait\n",
    "from selenium.webdriver.support import expected_conditions as EC\n",
    "from selenium.webdriver.common.keys import Keys\n",
    "import time\n",
    "import csv\n",
    "import re\n",
    "import pandas as pd"
   ]
  },
  {
   "cell_type": "code",
   "execution_count": 2,
   "metadata": {},
   "outputs": [
    {
     "name": "stdout",
     "output_type": "stream",
     "text": [
      "How many groups you wanna scrap: 6\n",
      " Enter Whatsapp group name: Sukkur Shorthand & Typing\n",
      " Enter Whatsapp group name: Distric Sukkur\n",
      " Enter Whatsapp group name: TECHMA ZONE FAMILY\n",
      " Enter Whatsapp group name: Techmazone DS B13A\n",
      " Enter Whatsapp group name: STHP-2022 Preparation.\n",
      " Enter Whatsapp group name: Online Course Coupons\n"
     ]
    }
   ],
   "source": [
    "# Sukkur Shorthand & Typing\n",
    "# Distric Sukkur\n",
    "# TECHMA ZONE FAMILY\n",
    "# Techmazone DS B13A\n",
    "# STHP-2022 Preparation.\n",
    "# Online Course Coupons\n",
    "n = int(input('How many whatsapp group do you wanna scrap: '))\n",
    "n = int(n)\n",
    "groups = []\n",
    "for i in range(0,n):\n",
    "    name_group = input(\" Enter group name: \")\n",
    "    groups.append(name_group)"
   ]
  },
  {
   "cell_type": "code",
   "execution_count": 3,
   "metadata": {},
   "outputs": [
    {
     "name": "stderr",
     "output_type": "stream",
     "text": [
      "F:\\New folder\\lib\\site-packages\\ipykernel_launcher.py:1: DeprecationWarning: executable_path has been deprecated, please pass in a Service object\n",
      "  \"\"\"Entry point for launching an IPython kernel.\n"
     ]
    }
   ],
   "source": [
    "driver = webdriver.Chrome(executable_path=\"C:\\Program Files (x86)\\Browser Driver.exe\")\n",
    "driver.get('https://web.whatsapp.com/')\n",
    "driver.maximize_window()"
   ]
  },
  {
   "cell_type": "code",
   "execution_count": 4,
   "metadata": {},
   "outputs": [],
   "source": [
    "Groups = groups\n",
    "variables = [re.sub(r\"[^\\w]\", \"\" ,x) for x in groups]\n",
    "for i,var in zip(Groups,variables):\n",
    "    time.sleep(5)\n",
    "    group_chat = WebDriverWait(driver, 360).until(\n",
    "        EC.presence_of_element_located((By.XPATH, \"//span[@title='{}']\".format(i)))\n",
    "        )\n",
    "    group_chat.click()\n",
    "    time.sleep(10)\n",
    "    try:\n",
    "        element = driver.find_element(By.XPATH,'//div[@data-testid=\"chat-subtitle\"]/span')\n",
    "        globals()[var] = element.text\n",
    "    except StaleElementReferenceException:\n",
    "        group_chat = WebDriverWait(driver, 120).until(\n",
    "        EC.presence_of_element_located((By.XPATH, \"//span[@title='{}']\".format(i)))\n",
    "        )\n",
    "        group_chat.click()\n",
    "        element = driver.find_element(By.XPATH,'//div[@data-testid=\"chat-subtitle\"]/span')\n",
    "        time.sleep(10)\n",
    "        globals()[var] = element.text       "
   ]
  },
  {
   "cell_type": "code",
   "execution_count": 6,
   "metadata": {},
   "outputs": [],
   "source": [
    "for i in variables:\n",
    "    x = globals()[i]\n",
    "    x = x.split(\",\")\n",
    "    x = pd.Series(x)\n",
    "    x = pd.DataFrame(x)\n",
    "    x.to_csv('{}.csv'.format(i))"
   ]
  },
  {
   "cell_type": "code",
   "execution_count": null,
   "metadata": {},
   "outputs": [],
   "source": []
  }
 ],
 "metadata": {
  "kernelspec": {
   "display_name": "Python 3",
   "language": "python",
   "name": "python3"
  },
  "language_info": {
   "codemirror_mode": {
    "name": "ipython",
    "version": 3
   },
   "file_extension": ".py",
   "mimetype": "text/x-python",
   "name": "python",
   "nbconvert_exporter": "python",
   "pygments_lexer": "ipython3",
   "version": "3.7.0"
  }
 },
 "nbformat": 4,
 "nbformat_minor": 2
}
